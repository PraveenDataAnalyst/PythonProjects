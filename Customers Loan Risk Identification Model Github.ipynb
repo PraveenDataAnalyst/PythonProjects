{
 "cells": [
  {
   "cell_type": "markdown",
   "id": "f8e34a29",
   "metadata": {},
   "source": [
    "# Project : Customers Loan Risk Identification Model"
   ]
  },
  {
   "cell_type": "markdown",
   "id": "addd94d0",
   "metadata": {},
   "source": [
    "# About the Dataset"
   ]
  },
  {
   "cell_type": "markdown",
   "id": "1d6cc5dc",
   "metadata": {},
   "source": [
    "This dataset describes customers loan details. The aim of this project is to  preprocess customers loan data. Being a Data Analyst, i am doing data gathering, cleaning the data and preprocess the data."
   ]
  },
  {
   "cell_type": "markdown",
   "id": "9992e1a0",
   "metadata": {},
   "source": [
    "# Installing the Packages"
   ]
  },
  {
   "cell_type": "code",
   "execution_count": 1,
   "id": "9a8919b0",
   "metadata": {},
   "outputs": [],
   "source": [
    "# To perfrom the mathematical functions, importing the Numpy packages\n",
    "import numpy as np"
   ]
  },
  {
   "cell_type": "code",
   "execution_count": 2,
   "id": "3bdd3b46",
   "metadata": {},
   "outputs": [],
   "source": [
    "#The set_printoptions() function is used to set printing options.\n",
    "\n",
    "#These options determine the way floating point numbers, arrays and other NumPy objects are displayed.\n",
    "\n",
    "np.set_printoptions(suppress = True, linewidth = 100, precision = 2)"
   ]
  },
  {
   "cell_type": "markdown",
   "id": "18e44815",
   "metadata": {},
   "source": [
    "# Importing the Dataset"
   ]
  },
  {
   "cell_type": "code",
   "execution_count": 3,
   "id": "e4bba366",
   "metadata": {},
   "outputs": [
    {
     "data": {
      "text/plain": [
       "array([[65676913.  ,         nan,    15000.  , ...,         nan,         nan,      447.57],\n",
       "       [63177012.  ,         nan,    11250.  , ...,         nan,         nan,      738.9 ],\n",
       "       [41021489.  ,         nan,    16400.  , ...,         nan,         nan,     3789.71],\n",
       "       ...,\n",
       "       [38507183.  ,         nan,    22500.  , ...,         nan,         nan,     7903.32],\n",
       "       [46644700.  ,         nan,    17325.  , ...,         nan,         nan,     3940.3 ],\n",
       "       [38171566.  ,         nan,     6250.  , ...,         nan,         nan,         nan]])"
      ]
     },
     "execution_count": 3,
     "metadata": {},
     "output_type": "execute_result"
    }
   ],
   "source": [
    "# Importing the txt files data.\n",
    "data_raw = np.genfromtxt(\"Customers-Loan-Risk.csv\",delimiter = ';',autostrip = True,skip_header =1)\n",
    "data_raw"
   ]
  },
  {
   "cell_type": "markdown",
   "id": "702ade52",
   "metadata": {},
   "source": [
    "# Checking Missing Values"
   ]
  },
  {
   "cell_type": "code",
   "execution_count": 4,
   "id": "f0deb8af",
   "metadata": {},
   "outputs": [
    {
     "data": {
      "text/plain": [
       "88005"
      ]
     },
     "execution_count": 4,
     "metadata": {},
     "output_type": "execute_result"
    }
   ],
   "source": [
    "# Checking the missing values in element wise and returns the number of True values(1s) in the array.\n",
    "np.isnan(data_raw).sum()"
   ]
  },
  {
   "cell_type": "code",
   "execution_count": 5,
   "id": "f3c10527",
   "metadata": {},
   "outputs": [
    {
     "data": {
      "text/plain": [
       "68616520.0"
      ]
     },
     "execution_count": 5,
     "metadata": {},
     "output_type": "execute_result"
    }
   ],
   "source": [
    "# Obtaining the maximum value of an array along the axis ,ignoring any Nan value.\n",
    "missing_data_fill = np.nanmax(data_raw) + 1\n",
    "missing_data_fill"
   ]
  },
  {
   "cell_type": "code",
   "execution_count": 6,
   "id": "6cdd18fd",
   "metadata": {},
   "outputs": [
    {
     "name": "stderr",
     "output_type": "stream",
     "text": [
      "<ipython-input-6-d61b19c63903>:2: RuntimeWarning: Mean of empty slice\n",
      "  temporary_mean = np.nanmean(raw_data_np, axis = 0)\n"
     ]
    },
    {
     "data": {
      "text/plain": [
       "array([54015809.19,         nan,    15273.46,         nan,    15311.04,         nan,       16.62,\n",
       "            440.92,         nan,         nan,         nan,         nan,         nan,     3143.85])"
      ]
     },
     "execution_count": 6,
     "metadata": {},
     "output_type": "execute_result"
    }
   ],
   "source": [
    "# Obtainging the mean value of an array ignoring the NaN value without effecting NaN value.\n",
    "missing data_mean = np.nanmean(data_raw, axis = 0)\n",
    "missing data_mean"
   ]
  },
  {
   "cell_type": "code",
   "execution_count": 8,
   "id": "d86abdc7",
   "metadata": {},
   "outputs": [
    {
     "name": "stderr",
     "output_type": "stream",
     "text": [
      "<ipython-input-8-65db00e0e14a>:2: RuntimeWarning: All-NaN slice encountered\n",
      "  np.nanmin(raw_data_np,axis =0)\n"
     ]
    },
    {
     "data": {
      "text/plain": [
       "array([373332.  ,       nan,   1000.  ,       nan,   1000.  ,       nan,      6.  ,     31.42,\n",
       "             nan,       nan,       nan,       nan,       nan,      0.  ])"
      ]
     },
     "execution_count": 8,
     "metadata": {},
     "output_type": "execute_result"
    }
   ],
   "source": [
    "#Obtaining the min value of an array ignoring the NaN value\n",
    "np.nanmin(data_raw,axis =0)"
   ]
  },
  {
   "cell_type": "code",
   "execution_count": 9,
   "id": "cfa69743",
   "metadata": {},
   "outputs": [
    {
     "name": "stderr",
     "output_type": "stream",
     "text": [
      "<ipython-input-9-56bb8248ccf5>:1: RuntimeWarning: All-NaN slice encountered\n",
      "  temporary_stats = np.array([np.nanmin(raw_data_np, axis = 0),\n",
      "<ipython-input-9-56bb8248ccf5>:3: RuntimeWarning: All-NaN slice encountered\n",
      "  np.nanmax(raw_data_np, axis =0)])\n"
     ]
    },
    {
     "data": {
      "text/plain": [
       "array([[  373332.  ,         nan,     1000.  ,         nan,     1000.  ,         nan,        6.  ,\n",
       "              31.42,         nan,         nan,         nan,         nan,         nan,        0.  ],\n",
       "       [54015809.19,         nan,    15273.46,         nan,    15311.04,         nan,       16.62,\n",
       "             440.92,         nan,         nan,         nan,         nan,         nan,     3143.85],\n",
       "       [68616519.  ,         nan,    35000.  ,         nan,    35000.  ,         nan,       28.99,\n",
       "            1372.97,         nan,         nan,         nan,         nan,         nan,    41913.62]])"
      ]
     },
     "execution_count": 9,
     "metadata": {},
     "output_type": "execute_result"
    }
   ],
   "source": [
    "missing_data_stats = np.array([np.nanmin(data_raw, axis = 0),\n",
    "                           missing data_mean,\n",
    "                           np.nanmax(data_raw, axis =0)])\n",
    "missing_data_stats"
   ]
  },
  {
   "cell_type": "markdown",
   "id": "24855a04",
   "metadata": {},
   "source": [
    "# Customizing the columns"
   ]
  },
  {
   "cell_type": "code",
   "execution_count": 10,
   "id": "85969f54",
   "metadata": {},
   "outputs": [
    {
     "data": {
      "text/plain": [
       "array([54015809.19,         nan,    15273.46,         nan,    15311.04,         nan,       16.62,\n",
       "            440.92,         nan,         nan,         nan,         nan,         nan,     3143.85])"
      ]
     },
     "execution_count": 10,
     "metadata": {},
     "output_type": "execute_result"
    }
   ],
   "source": [
    "missing data_mean"
   ]
  },
  {
   "cell_type": "code",
   "execution_count": 11,
   "id": "02434c34",
   "metadata": {},
   "outputs": [
    {
     "data": {
      "text/plain": [
       "array([54015809.19,         nan,    15273.46,         nan,    15311.04,         nan,       16.62,\n",
       "            440.92,         nan,         nan,         nan,         nan,         nan,     3143.85])"
      ]
     },
     "execution_count": 11,
     "metadata": {},
     "output_type": "execute_result"
    }
   ],
   "source": [
    "(missing data_mean).squeeze()"
   ]
  },
  {
   "cell_type": "code",
   "execution_count": 13,
   "id": "1d838603",
   "metadata": {},
   "outputs": [],
   "source": [
    "# Obtaining the indices of array elements that are non-zero.\n",
    "# Obtaining  tests element-wise, whether it is NaN or not, returns the result as a boolean array.\n",
    "# Removing one-dimensional entry from the shape of the given array\n",
    "columns_strings = np.argwhere(np.isnan(missing data_mean)).squeeze()\n",
    "columns_numeric = np.argwhere(np.isnan(missing data_mean) == False).squeeze()\n"
   ]
  },
  {
   "cell_type": "code",
   "execution_count": 14,
   "id": "c11799fe",
   "metadata": {},
   "outputs": [
    {
     "data": {
      "text/plain": [
       "array([ 1,  3,  5,  8,  9, 10, 11, 12], dtype=int64)"
      ]
     },
     "execution_count": 14,
     "metadata": {},
     "output_type": "execute_result"
    }
   ],
   "source": [
    "columns_strings"
   ]
  },
  {
   "cell_type": "code",
   "execution_count": 15,
   "id": "37cdc36f",
   "metadata": {},
   "outputs": [
    {
     "data": {
      "text/plain": [
       "array([ 0,  2,  4,  6,  7, 13], dtype=int64)"
      ]
     },
     "execution_count": 15,
     "metadata": {},
     "output_type": "execute_result"
    }
   ],
   "source": [
    "columns_numeric"
   ]
  },
  {
   "cell_type": "markdown",
   "id": "a632255e",
   "metadata": {},
   "source": [
    "# Verifying the Data"
   ]
  },
  {
   "cell_type": "code",
   "execution_count": 16,
   "id": "5402fa3c",
   "metadata": {},
   "outputs": [
    {
     "name": "stderr",
     "output_type": "stream",
     "text": [
      "<ipython-input-16-408aad9e9a59>:6: DeprecationWarning: `np.str` is a deprecated alias for the builtin `str`. To silence this warning, use `str` by itself. Doing this will not modify any behavior and is safe. If you specifically wanted the numpy scalar type, use `np.str_` here.\n",
      "Deprecated in NumPy 1.20; for more details and guidance: https://numpy.org/devdocs/release/1.20.0-notes.html#deprecations\n",
      "  dtype = np.str)\n"
     ]
    },
    {
     "data": {
      "text/plain": [
       "array([['Nov-15', 'Current', '', ..., 'Not Verified',\n",
       "        'https://www.lendingclub.com/browse/loanDetail.action?loan_id=65676913', 'NY'],\n",
       "       ['', 'Current', '36 months', ..., 'Source Verified',\n",
       "        'https://www.lendingclub.com/browse/loanDetail.action?loan_id=63177012', 'TX'],\n",
       "       ['Mar-15', 'Current', '60 months', ..., 'Source Verified',\n",
       "        'https://www.lendingclub.com/browse/loanDetail.action?loan_id=41021489', 'OR'],\n",
       "       ...,\n",
       "       ['Jan-15', 'Current', '36 months', ..., 'Verified',\n",
       "        'https://www.lendingclub.com/browse/loanDetail.action?loan_id=38507183', 'AZ'],\n",
       "       ['May-15', 'Current', '60 months', ..., 'Source Verified',\n",
       "        'https://www.lendingclub.com/browse/loanDetail.action?loan_id=46644700', 'GA'],\n",
       "       ['Jan-15', 'Current', '36 months', ..., 'Not Verified',\n",
       "        'https://www.lendingclub.com/browse/loanDetail.action?loan_id=38171566', 'CA']],\n",
       "      dtype='<U69')"
      ]
     },
     "execution_count": 16,
     "metadata": {},
     "output_type": "execute_result"
    }
   ],
   "source": [
    "customers_data_strings = np.genfromtxt(\"Customers-Loan-Risk.csv\",\n",
    "                                   delimiter = ';',\n",
    "                                   skip_header = 1,\n",
    "                                   autostrip = True,\n",
    "                                   usecols = columns_strings,\n",
    "                                   dtype = np.str)\n",
    "customers_data_strings"
   ]
  },
  {
   "cell_type": "code",
   "execution_count": 18,
   "id": "e3f242e1",
   "metadata": {},
   "outputs": [
    {
     "data": {
      "text/plain": [
       "array([[65676913.  ,    15000.  ,    15000.  , 68616520.  ,      457.97,      447.57],\n",
       "       [63177012.  ,    11250.  ,    11250.  , 68616520.  ,      377.38,      738.9 ],\n",
       "       [41021489.  ,    16400.  ,    16400.  , 68616520.  ,      381.52,     3789.71],\n",
       "       ...,\n",
       "       [38507183.  ,    22500.  ,    22500.  , 68616520.  ,      720.64,     7903.32],\n",
       "       [46644700.  ,    17325.  ,    17325.  ,       23.99,      498.31,     3940.3 ],\n",
       "       [38171566.  ,     6250.  ,     6250.  , 68616520.  ,      203.12, 68616520.  ]])"
      ]
     },
     "execution_count": 18,
     "metadata": {},
     "output_type": "execute_result"
    }
   ],
   "source": [
    "customers_data_numeric = np.genfromtxt(\"Customers-Loan-Risk.csv\",\n",
    "                                   delimiter = ';',\n",
    "                                   autostrip = True,\n",
    "                                   skip_header = 1,\n",
    "                                   usecols = columns_numeric,\n",
    "                                   filling_values = missing_data_fill)\n",
    "customers_data_numeric"
   ]
  },
  {
   "cell_type": "markdown",
   "id": "14787915",
   "metadata": {},
   "source": [
    "# Column Headers"
   ]
  },
  {
   "cell_type": "code",
   "execution_count": 20,
   "id": "d8430eb5",
   "metadata": {},
   "outputs": [
    {
     "data": {
      "text/plain": [
       "array([[65676913.  ,         nan,    15000.  , ...,         nan,         nan,      447.57],\n",
       "       [63177012.  ,         nan,    11250.  , ...,         nan,         nan,      738.9 ],\n",
       "       [41021489.  ,         nan,    16400.  , ...,         nan,         nan,     3789.71],\n",
       "       ...,\n",
       "       [38507183.  ,         nan,    22500.  , ...,         nan,         nan,     7903.32],\n",
       "       [46644700.  ,         nan,    17325.  , ...,         nan,         nan,     3940.3 ],\n",
       "       [38171566.  ,         nan,     6250.  , ...,         nan,         nan,         nan]])"
      ]
     },
     "execution_count": 20,
     "metadata": {},
     "output_type": "execute_result"
    }
   ],
   "source": [
    "data_raw"
   ]
  },
  {
   "cell_type": "code",
   "execution_count": 22,
   "id": "0acd8867",
   "metadata": {},
   "outputs": [
    {
     "data": {
      "text/plain": [
       "(10000, 14)"
      ]
     },
     "execution_count": 22,
     "metadata": {},
     "output_type": "execute_result"
    }
   ],
   "source": [
    "# Obtaining the shape of the array\n",
    "data_raw.shape"
   ]
  },
  {
   "cell_type": "code",
   "execution_count": 23,
   "id": "eab367c5",
   "metadata": {},
   "outputs": [
    {
     "name": "stderr",
     "output_type": "stream",
     "text": [
      "<ipython-input-23-4503a671bd8d>:5: DeprecationWarning: `np.str` is a deprecated alias for the builtin `str`. To silence this warning, use `str` by itself. Doing this will not modify any behavior and is safe. If you specifically wanted the numpy scalar type, use `np.str_` here.\n",
      "Deprecated in NumPy 1.20; for more details and guidance: https://numpy.org/devdocs/release/1.20.0-notes.html#deprecations\n",
      "  dtype = np.str)\n"
     ]
    },
    {
     "data": {
      "text/plain": [
       "array(['id', 'issue_d', 'loan_amnt', 'loan_status', 'funded_amnt', 'term', 'int_rate',\n",
       "       'installment', 'grade', 'sub_grade', 'verification_status', 'url', 'addr_state',\n",
       "       'total_pymnt'], dtype='<U19')"
      ]
     },
     "execution_count": 23,
     "metadata": {},
     "output_type": "execute_result"
    }
   ],
   "source": [
    "column_header = np.genfromtxt(\"Customers-Loan-Risk.csv\",\n",
    "                             delimiter = ';',\n",
    "                             autostrip = True,\n",
    "                             skip_footer = data_raw.shape[0],\n",
    "                             dtype = np.str)\n",
    "column_header"
   ]
  },
  {
   "cell_type": "code",
   "execution_count": 25,
   "id": "c1eeaa45",
   "metadata": {},
   "outputs": [
    {
     "data": {
      "text/plain": [
       "array(['id', 'loan_amnt', 'funded_amnt', 'int_rate', 'installment', 'total_pymnt'], dtype='<U19')"
      ]
     },
     "execution_count": 25,
     "metadata": {},
     "output_type": "execute_result"
    }
   ],
   "source": [
    "column_header[columns_numeric]"
   ]
  },
  {
   "cell_type": "code",
   "execution_count": 26,
   "id": "4b7fbe5f",
   "metadata": {},
   "outputs": [
    {
     "data": {
      "text/plain": [
       "array(['issue_d', 'loan_status', 'term', 'grade', 'sub_grade', 'verification_status', 'url',\n",
       "       'addr_state'], dtype='<U19')"
      ]
     },
     "execution_count": 26,
     "metadata": {},
     "output_type": "execute_result"
    }
   ],
   "source": [
    "column_header[columns_strings]"
   ]
  },
  {
   "cell_type": "code",
   "execution_count": 27,
   "id": "4c145ed7",
   "metadata": {},
   "outputs": [],
   "source": [
    "#Mapping the header_full columns \n",
    "column_header_strings,column_header_numeric = column_header[columns_strings],column_header[columns_numeric]"
   ]
  },
  {
   "cell_type": "code",
   "execution_count": 28,
   "id": "f491c1f8",
   "metadata": {},
   "outputs": [
    {
     "data": {
      "text/plain": [
       "array(['issue_d', 'loan_status', 'term', 'grade', 'sub_grade', 'verification_status', 'url',\n",
       "       'addr_state'], dtype='<U19')"
      ]
     },
     "execution_count": 28,
     "metadata": {},
     "output_type": "execute_result"
    }
   ],
   "source": [
    "column_header_strings"
   ]
  },
  {
   "cell_type": "code",
   "execution_count": 29,
   "id": "9efd2eec",
   "metadata": {},
   "outputs": [
    {
     "data": {
      "text/plain": [
       "array(['id', 'loan_amnt', 'funded_amnt', 'int_rate', 'installment', 'total_pymnt'], dtype='<U19')"
      ]
     },
     "execution_count": 29,
     "metadata": {},
     "output_type": "execute_result"
    }
   ],
   "source": [
    "column_header_numeric"
   ]
  },
  {
   "cell_type": "markdown",
   "id": "9ab154a2",
   "metadata": {},
   "source": [
    "# Checkpoint Dataset:"
   ]
  },
  {
   "cell_type": "code",
   "execution_count": 30,
   "id": "32a8b7a5",
   "metadata": {},
   "outputs": [],
   "source": [
    "# Creating Checkpoint\n",
    "def checkpoint(file_name,checkpoint_header, checkpoint_data):\n",
    "    np.savez(file_name,header = checkpoint_header, data = checkpoint_data)\n",
    "    checkpoint_variable = np.load(file_name + \".npz\")\n",
    "    return(checkpoint_variable)"
   ]
  },
  {
   "cell_type": "code",
   "execution_count": 31,
   "id": "84fc97e4",
   "metadata": {},
   "outputs": [],
   "source": [
    "# Checkpoint created\n",
    "checkpoint_test = checkpoint(\"checkpoint-test\",column_header_strings,customers_data_strings)"
   ]
  },
  {
   "cell_type": "code",
   "execution_count": 32,
   "id": "dab12c24",
   "metadata": {},
   "outputs": [
    {
     "data": {
      "text/plain": [
       "array([['Nov-15', 'Current', '', ..., 'Not Verified',\n",
       "        'https://www.lendingclub.com/browse/loanDetail.action?loan_id=65676913', 'NY'],\n",
       "       ['', 'Current', '36 months', ..., 'Source Verified',\n",
       "        'https://www.lendingclub.com/browse/loanDetail.action?loan_id=63177012', 'TX'],\n",
       "       ['Mar-15', 'Current', '60 months', ..., 'Source Verified',\n",
       "        'https://www.lendingclub.com/browse/loanDetail.action?loan_id=41021489', 'OR'],\n",
       "       ...,\n",
       "       ['Jan-15', 'Current', '36 months', ..., 'Verified',\n",
       "        'https://www.lendingclub.com/browse/loanDetail.action?loan_id=38507183', 'AZ'],\n",
       "       ['May-15', 'Current', '60 months', ..., 'Source Verified',\n",
       "        'https://www.lendingclub.com/browse/loanDetail.action?loan_id=46644700', 'GA'],\n",
       "       ['Jan-15', 'Current', '36 months', ..., 'Not Verified',\n",
       "        'https://www.lendingclub.com/browse/loanDetail.action?loan_id=38171566', 'CA']],\n",
       "      dtype='<U69')"
      ]
     },
     "execution_count": 32,
     "metadata": {},
     "output_type": "execute_result"
    }
   ],
   "source": [
    "# Tessting the checkpoint data\n",
    "checkpoint_test['data']"
   ]
  },
  {
   "cell_type": "code",
   "execution_count": 33,
   "id": "976c58f8",
   "metadata": {},
   "outputs": [
    {
     "data": {
      "text/plain": [
       "True"
      ]
     },
     "execution_count": 33,
     "metadata": {},
     "output_type": "execute_result"
    }
   ],
   "source": [
    "#  Verifying the checkpoint data\n",
    "np.array_equal(checkpoint_test['data'],customers_data_strings)"
   ]
  },
  {
   "cell_type": "markdown",
   "id": "9b43cfdb",
   "metadata": {},
   "source": [
    "# Column Strings"
   ]
  },
  {
   "cell_type": "code",
   "execution_count": 34,
   "id": "621d827a",
   "metadata": {},
   "outputs": [
    {
     "data": {
      "text/plain": [
       "array(['issue_d', 'loan_status', 'term', 'grade', 'sub_grade', 'verification_status', 'url',\n",
       "       'addr_state'], dtype='<U19')"
      ]
     },
     "execution_count": 34,
     "metadata": {},
     "output_type": "execute_result"
    }
   ],
   "source": [
    "column_header_strings"
   ]
  },
  {
   "cell_type": "code",
   "execution_count": 35,
   "id": "bdff0301",
   "metadata": {},
   "outputs": [],
   "source": [
    "column_header_strings[0] = \"issue_date\""
   ]
  },
  {
   "cell_type": "code",
   "execution_count": 36,
   "id": "1c8bf5d4",
   "metadata": {},
   "outputs": [
    {
     "data": {
      "text/plain": [
       "array(['issue_date', 'loan_status', 'term', 'grade', 'sub_grade', 'verification_status', 'url',\n",
       "       'addr_state'], dtype='<U19')"
      ]
     },
     "execution_count": 36,
     "metadata": {},
     "output_type": "execute_result"
    }
   ],
   "source": [
    "column_header_strings"
   ]
  },
  {
   "cell_type": "markdown",
   "id": "7b08406e",
   "metadata": {},
   "source": [
    "# Issue Date"
   ]
  },
  {
   "cell_type": "code",
   "execution_count": 37,
   "id": "91f61a4c",
   "metadata": {},
   "outputs": [
    {
     "data": {
      "text/plain": [
       "array([['Nov', 'Current', '', ..., 'Not Verified',\n",
       "        'https://www.lendingclub.com/browse/loanDetail.action?loan_id=65676913', 'NY'],\n",
       "       ['', 'Current', '36 months', ..., 'Source Verified',\n",
       "        'https://www.lendingclub.com/browse/loanDetail.action?loan_id=63177012', 'TX'],\n",
       "       ['Mar', 'Current', '60 months', ..., 'Source Verified',\n",
       "        'https://www.lendingclub.com/browse/loanDetail.action?loan_id=41021489', 'OR'],\n",
       "       ...,\n",
       "       ['Jan', 'Current', '36 months', ..., 'Verified',\n",
       "        'https://www.lendingclub.com/browse/loanDetail.action?loan_id=38507183', 'AZ'],\n",
       "       ['May', 'Current', '60 months', ..., 'Source Verified',\n",
       "        'https://www.lendingclub.com/browse/loanDetail.action?loan_id=46644700', 'GA'],\n",
       "       ['Jan', 'Current', '36 months', ..., 'Not Verified',\n",
       "        'https://www.lendingclub.com/browse/loanDetail.action?loan_id=38171566', 'CA']],\n",
       "      dtype='<U69')"
      ]
     },
     "execution_count": 37,
     "metadata": {},
     "output_type": "execute_result"
    }
   ],
   "source": [
    "#For each element in self, return a copy with the leading and trailing characters removed.\n",
    "customers_data_strings[:,0] =np.chararray.strip(customers_data_strings[:,0], \"-15\")\n",
    "customers_data_strings"
   ]
  },
  {
   "cell_type": "code",
   "execution_count": 39,
   "id": "ddd1f1dc",
   "metadata": {},
   "outputs": [
    {
     "data": {
      "text/plain": [
       "array(['', 'Apr', 'Aug', 'Dec', 'Feb', 'Jan', 'Jul', 'Jun', 'Mar', 'May', 'Nov', 'Oct', 'Sep'],\n",
       "      dtype='<U69')"
      ]
     },
     "execution_count": 39,
     "metadata": {},
     "output_type": "execute_result"
    }
   ],
   "source": [
    "# Obtaining the unique values in the array\n",
    "np.unique(customers_data_strings[:,0])"
   ]
  },
  {
   "cell_type": "code",
   "execution_count": 40,
   "id": "029e1535",
   "metadata": {},
   "outputs": [],
   "source": [
    "months = np.array(['', 'Jan', 'Feb', 'Mar', 'Apr', 'May', 'Jun', 'Jul', 'Aug', 'Sep', 'Oct', 'Nov', 'Dec'])"
   ]
  },
  {
   "cell_type": "code",
   "execution_count": 41,
   "id": "6b23e36c",
   "metadata": {},
   "outputs": [],
   "source": [
    "# With the forloop,mapping the months with numbers in string format.\n",
    "for i in range(13):\n",
    "    customers_data_strings[:,0]= np.where(customers_data_strings[:,0] == months[i],\n",
    "                                    i,customers_data_strings[:,0])"
   ]
  },
  {
   "cell_type": "code",
   "execution_count": 42,
   "id": "662e595c",
   "metadata": {},
   "outputs": [
    {
     "data": {
      "text/plain": [
       "array(['0', '1', '10', '11', '12', '2', '3', '4', '5', '6', '7', '8', '9'], dtype='<U69')"
      ]
     },
     "execution_count": 42,
     "metadata": {},
     "output_type": "execute_result"
    }
   ],
   "source": [
    "np.unique(customers_data_strings[:,0])"
   ]
  },
  {
   "cell_type": "markdown",
   "id": "3d4b9564",
   "metadata": {},
   "source": [
    "# Loan Status"
   ]
  },
  {
   "cell_type": "code",
   "execution_count": 43,
   "id": "0089229b",
   "metadata": {},
   "outputs": [
    {
     "data": {
      "text/plain": [
       "array(['', 'Charged Off', 'Current', 'Default', 'Fully Paid', 'In Grace Period', 'Issued',\n",
       "       'Late (16-30 days)', 'Late (31-120 days)'], dtype='<U69')"
      ]
     },
     "execution_count": 43,
     "metadata": {},
     "output_type": "execute_result"
    }
   ],
   "source": [
    "# Identifying the unique values\n",
    "np.unique(customers_data_strings[:,1])"
   ]
  },
  {
   "cell_type": "code",
   "execution_count": 44,
   "id": "5e95b428",
   "metadata": {},
   "outputs": [
    {
     "data": {
      "text/plain": [
       "9"
      ]
     },
     "execution_count": 44,
     "metadata": {},
     "output_type": "execute_result"
    }
   ],
   "source": [
    "# Verifying the size of the array\n",
    "np.unique(customers_data_strings[:,1]).size"
   ]
  },
  {
   "cell_type": "code",
   "execution_count": 45,
   "id": "ea5d255c",
   "metadata": {},
   "outputs": [],
   "source": [
    "# Creating new array with the specified strings in column\n",
    "columns_ignore = np.array(['','Charged Off','Default','Late (31-120 days)'])"
   ]
  },
  {
   "cell_type": "code",
   "execution_count": 46,
   "id": "4a7607e1",
   "metadata": {},
   "outputs": [
    {
     "data": {
      "text/plain": [
       "array([False, False, False, ..., False, False, False])"
      ]
     },
     "execution_count": 46,
     "metadata": {},
     "output_type": "execute_result"
    }
   ],
   "source": [
    "# we can see that one array having values are checked in a different numpy array having different elements with different sizes.\n",
    "np.isin(customers_data_strings[:,1],columns_ignore)"
   ]
  },
  {
   "cell_type": "code",
   "execution_count": 48,
   "id": "9803a1f3",
   "metadata": {},
   "outputs": [],
   "source": [
    "# Passing conditions\n",
    "customers_data_strings[:,1] = np.where(np.isin(customers_data_strings[:,1],columns_ignore),0,1)"
   ]
  },
  {
   "cell_type": "code",
   "execution_count": 49,
   "id": "8d15195a",
   "metadata": {},
   "outputs": [
    {
     "data": {
      "text/plain": [
       "array(['0', '1'], dtype='<U69')"
      ]
     },
     "execution_count": 49,
     "metadata": {},
     "output_type": "execute_result"
    }
   ],
   "source": [
    "np.unique(customers_data_strings[:,1])"
   ]
  },
  {
   "cell_type": "markdown",
   "id": "a202cddc",
   "metadata": {},
   "source": [
    "# Term"
   ]
  },
  {
   "cell_type": "code",
   "execution_count": 50,
   "id": "a3e3b72e",
   "metadata": {},
   "outputs": [
    {
     "data": {
      "text/plain": [
       "array(['', '36', '60', ..., '36', '60', '36'], dtype='<U69')"
      ]
     },
     "execution_count": 50,
     "metadata": {},
     "output_type": "execute_result"
    }
   ],
   "source": [
    "customers_data_strings[:,2] = np.chararray.strip(customers_data_strings[:,2],\" months\")\n",
    "customers_data_strings[:,2]"
   ]
  },
  {
   "cell_type": "code",
   "execution_count": 52,
   "id": "7485a142",
   "metadata": {},
   "outputs": [],
   "source": [
    "column_header_strings[2] = \"term_months\""
   ]
  },
  {
   "cell_type": "code",
   "execution_count": 53,
   "id": "e1714591",
   "metadata": {},
   "outputs": [
    {
     "data": {
      "text/plain": [
       "array(['60', '36', '60', ..., '36', '60', '36'], dtype='<U69')"
      ]
     },
     "execution_count": 53,
     "metadata": {},
     "output_type": "execute_result"
    }
   ],
   "source": [
    "customers_data_strings[:,2] = np.where(customers_data_strings[:,2] == '',\n",
    "                                 '60',\n",
    "                                 customers_data_strings[:,2])\n",
    "customers_data_strings[:,2]"
   ]
  },
  {
   "cell_type": "code",
   "execution_count": 56,
   "id": "5f5e5d4a",
   "metadata": {},
   "outputs": [
    {
     "data": {
      "text/plain": [
       "array(['36', '60'], dtype='<U69')"
      ]
     },
     "execution_count": 56,
     "metadata": {},
     "output_type": "execute_result"
    }
   ],
   "source": [
    "np.unique(customers_data_strings[:,2])"
   ]
  },
  {
   "cell_type": "markdown",
   "id": "0cffcb2d",
   "metadata": {},
   "source": [
    "# Grade and Subgrade"
   ]
  },
  {
   "cell_type": "code",
   "execution_count": 57,
   "id": "03b32a83",
   "metadata": {},
   "outputs": [
    {
     "data": {
      "text/plain": [
       "array(['', 'A', 'B', 'C', 'D', 'E', 'F', 'G'], dtype='<U69')"
      ]
     },
     "execution_count": 57,
     "metadata": {},
     "output_type": "execute_result"
    }
   ],
   "source": [
    "np.unique(customers_data_strings[:,3])"
   ]
  },
  {
   "cell_type": "code",
   "execution_count": 58,
   "id": "0fd1ed99",
   "metadata": {},
   "outputs": [
    {
     "data": {
      "text/plain": [
       "array(['', 'A1', 'A2', 'A3', 'A4', 'A5', 'B1', 'B2', 'B3', 'B4', 'B5', 'C1', 'C2', 'C3', 'C4',\n",
       "       'C5', 'D1', 'D2', 'D3', 'D4', 'D5', 'E1', 'E2', 'E3', 'E4', 'E5', 'F1', 'F2', 'F3', 'F4',\n",
       "       'F5', 'G1', 'G2', 'G3', 'G4', 'G5'], dtype='<U69')"
      ]
     },
     "execution_count": 58,
     "metadata": {},
     "output_type": "execute_result"
    }
   ],
   "source": [
    "np.unique(customers_data_strings[:,4])"
   ]
  },
  {
   "cell_type": "code",
   "execution_count": 59,
   "id": "7dac54c1",
   "metadata": {},
   "outputs": [],
   "source": [
    "for i in np.unique(customers_data_strings[:,3])[1:]:\n",
    "    customers_data_strings[:,4] = np.where((customers_data_strings[:,4] == '') & (customers_data_strings[:,3] == i),\n",
    "                                      i + '5',\n",
    "                                      customers_data_strings[:,4])"
   ]
  },
  {
   "cell_type": "code",
   "execution_count": 60,
   "id": "d5db18fc",
   "metadata": {},
   "outputs": [],
   "source": [
    "customers_data_strings[:,4] = np.where(customers_data_strings[:,4] == '',\n",
    "                                  'H1',\n",
    "                                  customers_data_strings[:,4])"
   ]
  },
  {
   "cell_type": "code",
   "execution_count": 61,
   "id": "4d10e7cf",
   "metadata": {},
   "outputs": [
    {
     "data": {
      "text/plain": [
       "array(['A1', 'A2', 'A3', 'A4', 'A5', 'B1', 'B2', 'B3', 'B4', 'B5', 'C1', 'C2', 'C3', 'C4', 'C5',\n",
       "       'D1', 'D2', 'D3', 'D4', 'D5', 'E1', 'E2', 'E3', 'E4', 'E5', 'F1', 'F2', 'F3', 'F4', 'F5',\n",
       "       'G1', 'G2', 'G3', 'G4', 'G5', 'H1'], dtype='<U69')"
      ]
     },
     "execution_count": 61,
     "metadata": {},
     "output_type": "execute_result"
    }
   ],
   "source": [
    "np.unique(customers_data_strings[:,4])"
   ]
  },
  {
   "cell_type": "code",
   "execution_count": 62,
   "id": "1da3c5fb",
   "metadata": {},
   "outputs": [
    {
     "data": {
      "text/plain": [
       "array([['11', '1', '60', ..., 'Not Verified',\n",
       "        'https://www.lendingclub.com/browse/loanDetail.action?loan_id=65676913', 'NY'],\n",
       "       ['0', '1', '36', ..., 'Source Verified',\n",
       "        'https://www.lendingclub.com/browse/loanDetail.action?loan_id=63177012', 'TX'],\n",
       "       ['3', '1', '60', ..., 'Source Verified',\n",
       "        'https://www.lendingclub.com/browse/loanDetail.action?loan_id=41021489', 'OR'],\n",
       "       ...,\n",
       "       ['1', '1', '36', ..., 'Verified',\n",
       "        'https://www.lendingclub.com/browse/loanDetail.action?loan_id=38507183', 'AZ'],\n",
       "       ['5', '1', '60', ..., 'Source Verified',\n",
       "        'https://www.lendingclub.com/browse/loanDetail.action?loan_id=46644700', 'GA'],\n",
       "       ['1', '1', '36', ..., 'Not Verified',\n",
       "        'https://www.lendingclub.com/browse/loanDetail.action?loan_id=38171566', 'CA']],\n",
       "      dtype='<U69')"
      ]
     },
     "execution_count": 62,
     "metadata": {},
     "output_type": "execute_result"
    }
   ],
   "source": [
    "#Deleting the unnecessary columns\n",
    "customers_data_strings = np.delete(customers_data_strings,3,axis=1)\n",
    "customers_data_strings"
   ]
  },
  {
   "cell_type": "code",
   "execution_count": 63,
   "id": "5bbf8d33",
   "metadata": {},
   "outputs": [],
   "source": [
    "column_header_strings = np.delete(column_header_strings,3)"
   ]
  },
  {
   "cell_type": "code",
   "execution_count": 64,
   "id": "38b7e94d",
   "metadata": {},
   "outputs": [
    {
     "data": {
      "text/plain": [
       "array(['issue_date', 'loan_status', 'term_months', 'sub_grade', 'verification_status', 'url',\n",
       "       'addr_state'], dtype='<U19')"
      ]
     },
     "execution_count": 64,
     "metadata": {},
     "output_type": "execute_result"
    }
   ],
   "source": [
    "column_header_strings"
   ]
  },
  {
   "cell_type": "code",
   "execution_count": 65,
   "id": "a029d79f",
   "metadata": {},
   "outputs": [],
   "source": [
    "# Creating dictionary with keys and values\n",
    "keys = list(np.unique(customers_data_strings[:,3]))                         \n",
    "values = list(range(1, np.unique(customers_data_strings[:,3]).shape[0] + 1)) \n",
    "new_subgrade = dict(zip(keys, values))"
   ]
  },
  {
   "cell_type": "code",
   "execution_count": 66,
   "id": "9d7d69ed",
   "metadata": {},
   "outputs": [
    {
     "data": {
      "text/plain": [
       "{'A1': 1,\n",
       " 'A2': 2,\n",
       " 'A3': 3,\n",
       " 'A4': 4,\n",
       " 'A5': 5,\n",
       " 'B1': 6,\n",
       " 'B2': 7,\n",
       " 'B3': 8,\n",
       " 'B4': 9,\n",
       " 'B5': 10,\n",
       " 'C1': 11,\n",
       " 'C2': 12,\n",
       " 'C3': 13,\n",
       " 'C4': 14,\n",
       " 'C5': 15,\n",
       " 'D1': 16,\n",
       " 'D2': 17,\n",
       " 'D3': 18,\n",
       " 'D4': 19,\n",
       " 'D5': 20,\n",
       " 'E1': 21,\n",
       " 'E2': 22,\n",
       " 'E3': 23,\n",
       " 'E4': 24,\n",
       " 'E5': 25,\n",
       " 'F1': 26,\n",
       " 'F2': 27,\n",
       " 'F3': 28,\n",
       " 'F4': 29,\n",
       " 'F5': 30,\n",
       " 'G1': 31,\n",
       " 'G2': 32,\n",
       " 'G3': 33,\n",
       " 'G4': 34,\n",
       " 'G5': 35,\n",
       " 'H1': 36}"
      ]
     },
     "execution_count": 66,
     "metadata": {},
     "output_type": "execute_result"
    }
   ],
   "source": [
    "new_subgrade"
   ]
  },
  {
   "cell_type": "code",
   "execution_count": 67,
   "id": "bb8f9a2f",
   "metadata": {},
   "outputs": [],
   "source": [
    "for i in np.unique(customers_data_strings[:,3]):\n",
    "        customers_data_strings[:,3] = np.where(customers_data_strings[:,3] == i, \n",
    "                                          new_subgrade[i],\n",
    "                                          customers_data_strings[:,3])"
   ]
  },
  {
   "cell_type": "code",
   "execution_count": 68,
   "id": "23ee7943",
   "metadata": {},
   "outputs": [
    {
     "data": {
      "text/plain": [
       "array(['1', '10', '11', '12', '13', '14', '15', '16', '17', '18', '19', '2', '20', '21', '22',\n",
       "       '23', '24', '25', '26', '27', '28', '29', '3', '30', '31', '32', '33', '34', '35', '36',\n",
       "       '4', '5', '6', '7', '8', '9'], dtype='<U69')"
      ]
     },
     "execution_count": 68,
     "metadata": {},
     "output_type": "execute_result"
    }
   ],
   "source": [
    "np.unique(customers_data_strings[:,3])"
   ]
  },
  {
   "cell_type": "code",
   "execution_count": 70,
   "id": "247419b2",
   "metadata": {},
   "outputs": [
    {
     "data": {
      "text/plain": [
       "array(['', 'Not Verified', 'Source Verified', 'Verified'], dtype='<U69')"
      ]
     },
     "execution_count": 70,
     "metadata": {},
     "output_type": "execute_result"
    }
   ],
   "source": [
    "np.unique(customers_data_strings[:,4])"
   ]
  },
  {
   "cell_type": "code",
   "execution_count": 71,
   "id": "f35d8429",
   "metadata": {},
   "outputs": [
    {
     "data": {
      "text/plain": [
       "array([ True, False, False, ..., False, False,  True])"
      ]
     },
     "execution_count": 71,
     "metadata": {},
     "output_type": "execute_result"
    }
   ],
   "source": [
    "customers_data_strings[:,4] == 'Not Verified'"
   ]
  },
  {
   "cell_type": "code",
   "execution_count": 72,
   "id": "7069b179",
   "metadata": {},
   "outputs": [],
   "source": [
    "customers_data_strings[:,4] = np.where((customers_data_strings[:,4] == '') | (customers_data_strings[:,4] == 'Not Verified'), 0, 1)"
   ]
  },
  {
   "cell_type": "code",
   "execution_count": 74,
   "id": "f6d275e1",
   "metadata": {},
   "outputs": [
    {
     "data": {
      "text/plain": [
       "array(['0', '1'], dtype='<U69')"
      ]
     },
     "execution_count": 74,
     "metadata": {},
     "output_type": "execute_result"
    }
   ],
   "source": [
    "np.unique(customers_data_strings[:,4])"
   ]
  },
  {
   "cell_type": "markdown",
   "id": "6fc663eb",
   "metadata": {},
   "source": [
    "# URL"
   ]
  },
  {
   "cell_type": "code",
   "execution_count": 75,
   "id": "5b81a959",
   "metadata": {},
   "outputs": [],
   "source": [
    "customers_data_strings[:,5] = np.chararray.strip(customers_data_strings[:,5], \"https://www.lendingclub.com/browse/loanDetail.action?loan_id=\")"
   ]
  },
  {
   "cell_type": "code",
   "execution_count": 77,
   "id": "bea61814",
   "metadata": {},
   "outputs": [
    {
     "data": {
      "text/plain": [
       "array([65676913, 63177012, 41021489, ..., 38507183, 46644700, 38171566])"
      ]
     },
     "execution_count": 77,
     "metadata": {},
     "output_type": "execute_result"
    }
   ],
   "source": [
    "customers_data_numeric[:,0].astype(dtype = np.int32)"
   ]
  },
  {
   "cell_type": "code",
   "execution_count": 78,
   "id": "af66c930",
   "metadata": {},
   "outputs": [
    {
     "data": {
      "text/plain": [
       "array([65676913, 63177012, 41021489, ..., 38507183, 46644700, 38171566])"
      ]
     },
     "execution_count": 78,
     "metadata": {},
     "output_type": "execute_result"
    }
   ],
   "source": [
    "customers_data_strings[:,5].astype(dtype = np.int32)"
   ]
  },
  {
   "cell_type": "code",
   "execution_count": 79,
   "id": "9a723980",
   "metadata": {},
   "outputs": [
    {
     "data": {
      "text/plain": [
       "array(['65676913', '63177012', '41021489', ..., '38507183', '46644700', '38171566'], dtype='<U69')"
      ]
     },
     "execution_count": 79,
     "metadata": {},
     "output_type": "execute_result"
    }
   ],
   "source": [
    "customers_data_strings[:,5]"
   ]
  },
  {
   "cell_type": "code",
   "execution_count": 80,
   "id": "0286bb5e",
   "metadata": {},
   "outputs": [
    {
     "data": {
      "text/plain": [
       "True"
      ]
     },
     "execution_count": 80,
     "metadata": {},
     "output_type": "execute_result"
    }
   ],
   "source": [
    "np.array_equal(customers_data_numeric[:,0].astype(dtype = np.int32), customers_data_strings[:,5].astype(dtype = np.int32))"
   ]
  },
  {
   "cell_type": "code",
   "execution_count": 81,
   "id": "3a498314",
   "metadata": {},
   "outputs": [
    {
     "data": {
      "text/plain": [
       "array([['11', '1', '60', ..., '0', '65676913', 'NY'],\n",
       "       ['0', '1', '36', ..., '1', '63177012', 'TX'],\n",
       "       ['3', '1', '60', ..., '1', '41021489', 'OR'],\n",
       "       ...,\n",
       "       ['1', '1', '36', ..., '1', '38507183', 'AZ'],\n",
       "       ['5', '1', '60', ..., '1', '46644700', 'GA'],\n",
       "       ['1', '1', '36', ..., '0', '38171566', 'CA']], dtype='<U69')"
      ]
     },
     "execution_count": 81,
     "metadata": {},
     "output_type": "execute_result"
    }
   ],
   "source": [
    "customers_data_strings"
   ]
  },
  {
   "cell_type": "code",
   "execution_count": 84,
   "id": "a0df0759",
   "metadata": {},
   "outputs": [
    {
     "data": {
      "text/plain": [
       "array(['NY', 'TX', 'OR', ..., 'AZ', 'GA', 'CA'], dtype='<U69')"
      ]
     },
     "execution_count": 84,
     "metadata": {},
     "output_type": "execute_result"
    }
   ],
   "source": [
    "customers_data_strings[:,5]"
   ]
  },
  {
   "cell_type": "code",
   "execution_count": 85,
   "id": "6cd145d7",
   "metadata": {},
   "outputs": [
    {
     "data": {
      "text/plain": [
       "array(['issue_date', 'loan_status', 'term_months', 'sub_grade', 'verification_status',\n",
       "       'addr_state'], dtype='<U19')"
      ]
     },
     "execution_count": 85,
     "metadata": {},
     "output_type": "execute_result"
    }
   ],
   "source": [
    "column_header_strings"
   ]
  },
  {
   "cell_type": "code",
   "execution_count": 86,
   "id": "63a603a3",
   "metadata": {},
   "outputs": [
    {
     "data": {
      "text/plain": [
       "array(['id', 'loan_amnt', 'funded_amnt', 'int_rate', 'installment', 'total_pymnt'], dtype='<U19')"
      ]
     },
     "execution_count": 86,
     "metadata": {},
     "output_type": "execute_result"
    }
   ],
   "source": [
    "column_header_numeric"
   ]
  },
  {
   "cell_type": "markdown",
   "id": "8af3a98c",
   "metadata": {},
   "source": [
    "# State Address"
   ]
  },
  {
   "cell_type": "code",
   "execution_count": 87,
   "id": "6ad87234",
   "metadata": {},
   "outputs": [],
   "source": [
    "column_header_strings[5] = \"state_address\""
   ]
  },
  {
   "cell_type": "code",
   "execution_count": 88,
   "id": "f2dea483",
   "metadata": {},
   "outputs": [
    {
     "data": {
      "text/plain": [
       "(array(['CA', 'NY', 'TX', 'FL', '', 'IL', 'NJ', 'GA', 'PA', 'OH', 'MI', 'NC', 'VA', 'MD', 'AZ',\n",
       "        'WA', 'MA', 'CO', 'MO', 'MN', 'IN', 'WI', 'CT', 'TN', 'NV', 'AL', 'LA', 'OR', 'SC', 'KY',\n",
       "        'KS', 'OK', 'UT', 'AR', 'MS', 'NH', 'NM', 'WV', 'HI', 'RI', 'MT', 'DE', 'DC', 'WY', 'AK',\n",
       "        'NE', 'SD', 'VT', 'ND', 'ME'], dtype='<U69'),\n",
       " array([1336,  777,  758,  690,  500,  389,  341,  321,  320,  312,  267,  261,  242,  222,  220,\n",
       "         216,  210,  201,  160,  156,  152,  148,  143,  143,  130,  119,  116,  108,  107,   84,\n",
       "          84,   83,   74,   74,   61,   58,   57,   49,   44,   40,   28,   27,   27,   27,   26,\n",
       "          25,   24,   17,   16,   10], dtype=int64))"
      ]
     },
     "execution_count": 88,
     "metadata": {},
     "output_type": "execute_result"
    }
   ],
   "source": [
    "states_names, states_count = np.unique(customers_data_strings[:,5], return_counts = True)\n",
    "states_count_sorted = np.argsort(-states_count)\n",
    "states_names[states_count_sorted], states_count[states_count_sorted]"
   ]
  },
  {
   "cell_type": "code",
   "execution_count": 89,
   "id": "c3e7bf2a",
   "metadata": {},
   "outputs": [],
   "source": [
    "customers_data_strings[:,5] = np.where(customers_data_strings[:,5] == '', \n",
    "                                  0, \n",
    "                                  customers_data_strings[:,5])"
   ]
  },
  {
   "cell_type": "code",
   "execution_count": 90,
   "id": "c5c8bd0e",
   "metadata": {},
   "outputs": [],
   "source": [
    "states_west = np.array(['WA', 'OR','CA','NV','ID','MT', 'WY','UT','CO', 'AZ','NM','HI','AK'])\n",
    "states_south = np.array(['TX','OK','AR','LA','MS','AL','TN','KY','FL','GA','SC','NC','VA','WV','MD','DE','DC'])\n",
    "states_midwest = np.array(['ND','SD','NE','KS','MN','IA','MO','WI','IL','IN','MI','OH'])\n",
    "states_east = np.array(['PA','NY','NJ','CT','MA','VT','NH','ME','RI'])"
   ]
  },
  {
   "cell_type": "code",
   "execution_count": 91,
   "id": "b3eb090e",
   "metadata": {},
   "outputs": [],
   "source": [
    "customers_data_strings[:,5] = np.where(np.isin(customers_data_strings[:,5], states_west), 1, customers_data_strings[:,5])\n",
    "customers_data_strings[:,5] = np.where(np.isin(customers_data_strings[:,5], states_south), 2, customers_data_strings[:,5])\n",
    "customers_data_strings[:,5] = np.where(np.isin(customers_data_strings[:,5], states_midwest), 3, customers_data_strings[:,5])\n",
    "customers_data_strings[:,5] = np.where(np.isin(customers_data_strings[:,5], states_east), 4, customers_data_strings[:,5])"
   ]
  },
  {
   "cell_type": "code",
   "execution_count": 92,
   "id": "5274853e",
   "metadata": {},
   "outputs": [
    {
     "data": {
      "text/plain": [
       "array(['0', '1', '2', '3', '4'], dtype='<U69')"
      ]
     },
     "execution_count": 92,
     "metadata": {},
     "output_type": "execute_result"
    }
   ],
   "source": [
    "np.unique(customers_data_strings[:,5])"
   ]
  },
  {
   "cell_type": "code",
   "execution_count": 93,
   "id": "3d04d68d",
   "metadata": {},
   "outputs": [
    {
     "name": "stderr",
     "output_type": "stream",
     "text": [
      "<ipython-input-93-6460139559fc>:1: DeprecationWarning: `np.int` is a deprecated alias for the builtin `int`. To silence this warning, use `int` by itself. Doing this will not modify any behavior and is safe. When replacing `np.int`, you may wish to use e.g. `np.int64` or `np.int32` to specify the precision. If you wish to review your current use, check the release note link for additional information.\n",
      "Deprecated in NumPy 1.20; for more details and guidance: https://numpy.org/devdocs/release/1.20.0-notes.html#deprecations\n",
      "  loan_data_strings = loan_data_strings.astype(np.int)\n"
     ]
    },
    {
     "data": {
      "text/plain": [
       "array([[11,  1, 60,  2,  0,  4],\n",
       "       [ 0,  1, 36, 12,  1,  2],\n",
       "       [ 3,  1, 60, 14,  1,  1],\n",
       "       ...,\n",
       "       [ 1,  1, 36,  7,  1,  1],\n",
       "       [ 5,  1, 60, 27,  1,  2],\n",
       "       [ 1,  1, 36,  8,  0,  1]])"
      ]
     },
     "execution_count": 93,
     "metadata": {},
     "output_type": "execute_result"
    }
   ],
   "source": [
    "customers_data_strings = customers_data_strings.astype(np.int)\n",
    "customers_data_strings\n"
   ]
  },
  {
   "cell_type": "markdown",
   "id": "3aa58229",
   "metadata": {},
   "source": [
    "# Strings Checkpoint"
   ]
  },
  {
   "cell_type": "code",
   "execution_count": 95,
   "id": "3c1d4008",
   "metadata": {},
   "outputs": [],
   "source": [
    "checkpoint_strings = checkpoint(\"Checkpoint-Strings\", column_header_strings, customers_data_strings)"
   ]
  },
  {
   "cell_type": "code",
   "execution_count": 96,
   "id": "04d6b72f",
   "metadata": {},
   "outputs": [
    {
     "data": {
      "text/plain": [
       "array(['issue_date', 'loan_status', 'term_months', 'sub_grade', 'verification_status',\n",
       "       'state_address'], dtype='<U19')"
      ]
     },
     "execution_count": 96,
     "metadata": {},
     "output_type": "execute_result"
    }
   ],
   "source": [
    "checkpoint_strings[\"header\"]"
   ]
  },
  {
   "cell_type": "code",
   "execution_count": 97,
   "id": "f1be1204",
   "metadata": {},
   "outputs": [
    {
     "data": {
      "text/plain": [
       "array([[11,  1, 60,  2,  0,  4],\n",
       "       [ 0,  1, 36, 12,  1,  2],\n",
       "       [ 3,  1, 60, 14,  1,  1],\n",
       "       ...,\n",
       "       [ 1,  1, 36,  7,  1,  1],\n",
       "       [ 5,  1, 60, 27,  1,  2],\n",
       "       [ 1,  1, 36,  8,  0,  1]])"
      ]
     },
     "execution_count": 97,
     "metadata": {},
     "output_type": "execute_result"
    }
   ],
   "source": [
    "checkpoint_strings[\"data\"]"
   ]
  },
  {
   "cell_type": "code",
   "execution_count": 98,
   "id": "336a1974",
   "metadata": {},
   "outputs": [
    {
     "data": {
      "text/plain": [
       "True"
      ]
     },
     "execution_count": 98,
     "metadata": {},
     "output_type": "execute_result"
    }
   ],
   "source": [
    "np.array_equal(checkpoint_strings['data'], customers_data_strings)"
   ]
  },
  {
   "cell_type": "markdown",
   "id": "6aaeee59",
   "metadata": {},
   "source": [
    "# Column Numeric"
   ]
  },
  {
   "cell_type": "code",
   "execution_count": 99,
   "id": "e6223cd6",
   "metadata": {},
   "outputs": [
    {
     "data": {
      "text/plain": [
       "array([[False, False, False, False, False, False],\n",
       "       [False, False, False, False, False, False],\n",
       "       [False, False, False, False, False, False],\n",
       "       ...,\n",
       "       [False, False, False, False, False, False],\n",
       "       [False, False, False, False, False, False],\n",
       "       [False, False, False, False, False, False]])"
      ]
     },
     "execution_count": 99,
     "metadata": {},
     "output_type": "execute_result"
    }
   ],
   "source": [
    "np.isnan(customers_data_numeric)"
   ]
  },
  {
   "cell_type": "code",
   "execution_count": 100,
   "id": "ee4f5fc6",
   "metadata": {},
   "outputs": [
    {
     "data": {
      "text/plain": [
       "0"
      ]
     },
     "execution_count": 100,
     "metadata": {},
     "output_type": "execute_result"
    }
   ],
   "source": [
    "np.isnan(customers_data_numeric).sum()"
   ]
  },
  {
   "cell_type": "markdown",
   "id": "16f93a4e",
   "metadata": {},
   "source": [
    "# ID"
   ]
  },
  {
   "cell_type": "code",
   "execution_count": 101,
   "id": "30ffa59e",
   "metadata": {},
   "outputs": [
    {
     "data": {
      "text/plain": [
       "68616520.0"
      ]
     },
     "execution_count": 101,
     "metadata": {},
     "output_type": "execute_result"
    }
   ],
   "source": [
    "missing_data_fill"
   ]
  },
  {
   "cell_type": "code",
   "execution_count": 102,
   "id": "a8399b53",
   "metadata": {},
   "outputs": [
    {
     "data": {
      "text/plain": [
       "array([False, False, False, ..., False, False, False])"
      ]
     },
     "execution_count": 102,
     "metadata": {},
     "output_type": "execute_result"
    }
   ],
   "source": [
    "np.isin(customers_data_numeric[:,0], missing_data_fill)"
   ]
  },
  {
   "cell_type": "code",
   "execution_count": 103,
   "id": "15d51ea9",
   "metadata": {},
   "outputs": [
    {
     "data": {
      "text/plain": [
       "0"
      ]
     },
     "execution_count": 103,
     "metadata": {},
     "output_type": "execute_result"
    }
   ],
   "source": [
    "np.isin(customers_data_numeric[:,0], missing_data_fill).sum()"
   ]
  },
  {
   "cell_type": "code",
   "execution_count": 104,
   "id": "96d3d470",
   "metadata": {},
   "outputs": [
    {
     "data": {
      "text/plain": [
       "array(['id', 'loan_amnt', 'funded_amnt', 'int_rate', 'installment', 'total_pymnt'], dtype='<U19')"
      ]
     },
     "execution_count": 104,
     "metadata": {},
     "output_type": "execute_result"
    }
   ],
   "source": [
    "column_header_numeric"
   ]
  },
  {
   "cell_type": "markdown",
   "id": "3e3bb7ec",
   "metadata": {},
   "source": [
    "# Temporary Stats"
   ]
  },
  {
   "cell_type": "code",
   "execution_count": 105,
   "id": "109c2921",
   "metadata": {},
   "outputs": [
    {
     "data": {
      "text/plain": [
       "array([[  373332.  ,     1000.  ,     1000.  ,        6.  ,       31.42,        0.  ],\n",
       "       [54015809.19,    15273.46,    15311.04,       16.62,      440.92,     3143.85],\n",
       "       [68616519.  ,    35000.  ,    35000.  ,       28.99,     1372.97,    41913.62]])"
      ]
     },
     "execution_count": 105,
     "metadata": {},
     "output_type": "execute_result"
    }
   ],
   "source": [
    "missing_data_stats[:, columns_numeric]"
   ]
  },
  {
   "cell_type": "markdown",
   "id": "7c51f786",
   "metadata": {},
   "source": [
    "# Funded Amount"
   ]
  },
  {
   "cell_type": "code",
   "execution_count": 107,
   "id": "cbcb81db",
   "metadata": {},
   "outputs": [
    {
     "data": {
      "text/plain": [
       "array([15000., 11250., 16400., ..., 22500., 17325.,  6250.])"
      ]
     },
     "execution_count": 107,
     "metadata": {},
     "output_type": "execute_result"
    }
   ],
   "source": [
    "ustomers_data_numeric[:,2] = np.where(customers_data_numeric[:,2] == missing_data_fill, \n",
    "                                  missing_data_stats[0, columns_numeric[2]],\n",
    "                                  customers_data_numeric[:,2])\n",
    "customers_data_numeric[:,2]"
   ]
  },
  {
   "cell_type": "code",
   "execution_count": 109,
   "id": "e8dae58c",
   "metadata": {},
   "outputs": [],
   "source": [
    "for i in [1,3,4,5]:\n",
    "    customers_data_numeric[:,i] = np.where(customers_data_numeric[:,i] == missing_data_fill,\n",
    "                                      missing_data_stats[2, columns_numeric[i]],\n",
    "                                      customers_data_numeric[:,i])"
   ]
  },
  {
   "cell_type": "markdown",
   "id": "7fff0d37",
   "metadata": {},
   "source": [
    "# The Exchange Rate"
   ]
  },
  {
   "cell_type": "code",
   "execution_count": 110,
   "id": "351b482b",
   "metadata": {},
   "outputs": [
    {
     "data": {
      "text/plain": [
       "array([[74.81, 74.93, 74.68, 74.87,  0.  ],\n",
       "       [75.12, 75.15, 74.75, 74.81,  0.  ],\n",
       "       [75.24, 75.25, 74.88, 75.12,  0.  ],\n",
       "       [75.01, 75.53, 75.03, 75.24,  0.  ],\n",
       "       [75.03, 75.03, 75.03, 75.03,  0.  ],\n",
       "       [75.03, 75.03, 75.03, 75.03,  0.  ],\n",
       "       [75.  , 75.29, 74.88, 75.03,  0.  ],\n",
       "       [75.31, 75.37, 74.88, 75.  ,  0.  ],\n",
       "       [75.5 , 75.55, 75.17, 75.31,  0.  ],\n",
       "       [75.4 , 75.77, 75.16, 75.48,  0.  ],\n",
       "       [75.13, 75.54, 75.06, 75.4 ,  0.  ],\n",
       "       [75.31, 75.31, 75.13, 75.31,  0.  ],\n",
       "       [75.13, 75.31, 75.13, 75.13,  0.  ],\n",
       "       [74.83, 75.31, 72.82, 75.31,  0.  ],\n",
       "       [74.77, 75.02, 74.69, 74.83,  0.  ],\n",
       "       [74.56, 75.07, 74.54, 74.77,  0.  ],\n",
       "       [74.57, 74.8 , 74.41, 74.56,  0.  ],\n",
       "       [74.15, 74.61, 74.12, 74.57,  0.  ],\n",
       "       [74.15, 74.15, 74.14, 74.15,  0.  ],\n",
       "       [74.14, 74.14, 74.14, 74.14,  0.  ],\n",
       "       [74.25, 74.41, 74.07, 74.14,  0.  ]])"
      ]
     },
     "execution_count": 110,
     "metadata": {},
     "output_type": "execute_result"
    }
   ],
   "source": [
    "USD_INR = np.genfromtxt(\"USD-INR.csv\", delimiter = ',', autostrip = True, skip_header = 1)\n",
    "USD_INR"
   ]
  },
  {
   "cell_type": "code",
   "execution_count": 111,
   "id": "ad956bc0",
   "metadata": {},
   "outputs": [
    {
     "data": {
      "text/plain": [
       "array([74.87, 74.81, 75.12, 75.24, 75.03, 75.03, 75.03, 75.  , 75.31, 75.48, 75.4 , 75.31, 75.13,\n",
       "       75.31, 74.83, 74.77, 74.56, 74.57, 74.15, 74.14, 74.14])"
      ]
     },
     "execution_count": 111,
     "metadata": {},
     "output_type": "execute_result"
    }
   ],
   "source": [
    "USD_INR = np.genfromtxt(\"USD-INR.csv\", delimiter = ',', autostrip = True, skip_header = 1, usecols = 3)\n",
    "USD_INR"
   ]
  },
  {
   "cell_type": "code",
   "execution_count": 112,
   "id": "cd643cf6",
   "metadata": {},
   "outputs": [
    {
     "data": {
      "text/plain": [
       "array([75.4 , 74.92, 75.12, ..., 74.87, 75.03, 74.87])"
      ]
     },
     "execution_count": 112,
     "metadata": {},
     "output_type": "execute_result"
    }
   ],
   "source": [
    "exchange_rate = customers_data_strings[:,0]\n",
    "\n",
    "for i in range(1,13):\n",
    "    exchange_rate = np.where(exchange_rate == i,\n",
    "                             USD_INR[i-1],\n",
    "                             exchange_rate)    \n",
    "\n",
    "exchange_rate = np.where(exchange_rate == 0,\n",
    "                         np.mean(USD_INR),\n",
    "                         exchange_rate)\n",
    "\n",
    "exchange_rate"
   ]
  },
  {
   "cell_type": "code",
   "execution_count": 113,
   "id": "e1b489cc",
   "metadata": {},
   "outputs": [
    {
     "data": {
      "text/plain": [
       "(10000, 6)"
      ]
     },
     "execution_count": 113,
     "metadata": {},
     "output_type": "execute_result"
    }
   ],
   "source": [
    "customers_data_numeric.shape"
   ]
  },
  {
   "cell_type": "code",
   "execution_count": 114,
   "id": "81687e5d",
   "metadata": {},
   "outputs": [],
   "source": [
    "exchange_rate = np.reshape(exchange_rate, (10000,1))"
   ]
  },
  {
   "cell_type": "code",
   "execution_count": 115,
   "id": "0b487a3c",
   "metadata": {},
   "outputs": [
    {
     "data": {
      "text/plain": [
       "array([[75.4 ],\n",
       "       [74.92],\n",
       "       [75.12],\n",
       "       ...,\n",
       "       [74.87],\n",
       "       [75.03],\n",
       "       [74.87]])"
      ]
     },
     "execution_count": 115,
     "metadata": {},
     "output_type": "execute_result"
    }
   ],
   "source": [
    "exchange_rate"
   ]
  },
  {
   "cell_type": "code",
   "execution_count": 117,
   "id": "5a9d987b",
   "metadata": {},
   "outputs": [
    {
     "data": {
      "text/plain": [
       "array([[65676913.  ,    15000.  ,    15000.  ,       28.99,      457.97,      447.57],\n",
       "       [63177012.  ,    11250.  ,    11250.  ,       28.99,      377.38,      738.9 ],\n",
       "       [41021489.  ,    16400.  ,    16400.  ,       28.99,      381.52,     3789.71],\n",
       "       ...,\n",
       "       [38507183.  ,    22500.  ,    22500.  ,       28.99,      720.64,     7903.32],\n",
       "       [46644700.  ,    17325.  ,    17325.  ,       23.99,      498.31,     3940.3 ],\n",
       "       [38171566.  ,     6250.  ,     6250.  ,       28.99,      203.12,    41913.62]])"
      ]
     },
     "execution_count": 117,
     "metadata": {},
     "output_type": "execute_result"
    }
   ],
   "source": [
    "customers_data_numeric"
   ]
  },
  {
   "cell_type": "code",
   "execution_count": 119,
   "id": "26dfc21c",
   "metadata": {},
   "outputs": [
    {
     "data": {
      "text/plain": [
       "array([[65676913.  ,    15000.  ,    15000.  , ...,      457.97,      447.57,       75.4 ],\n",
       "       [63177012.  ,    11250.  ,    11250.  , ...,      377.38,      738.9 ,       74.92],\n",
       "       [41021489.  ,    16400.  ,    16400.  , ...,      381.52,     3789.71,       75.12],\n",
       "       ...,\n",
       "       [38507183.  ,    22500.  ,    22500.  , ...,      720.64,     7903.32,       74.87],\n",
       "       [46644700.  ,    17325.  ,    17325.  , ...,      498.31,     3940.3 ,       75.03],\n",
       "       [38171566.  ,     6250.  ,     6250.  , ...,      203.12,    41913.62,       74.87]])"
      ]
     },
     "execution_count": 119,
     "metadata": {},
     "output_type": "execute_result"
    }
   ],
   "source": [
    "#stack the sequence of input arrays horizontally\n",
    "np.hstack((customers_data_numeric, exchange_rate))"
   ]
  },
  {
   "cell_type": "code",
   "execution_count": 121,
   "id": "d522b93d",
   "metadata": {},
   "outputs": [],
   "source": [
    "customers_data_numeric = np.hstack((customers_data_numeric, exchange_rate))"
   ]
  },
  {
   "cell_type": "code",
   "execution_count": 122,
   "id": "331d7f27",
   "metadata": {},
   "outputs": [
    {
     "data": {
      "text/plain": [
       "array(['id', 'loan_amnt', 'funded_amnt', 'int_rate', 'installment', 'total_pymnt', 'exchange_rate'],\n",
       "      dtype='<U19')"
      ]
     },
     "execution_count": 122,
     "metadata": {},
     "output_type": "execute_result"
    }
   ],
   "source": [
    "#Added the new column\n",
    "column_header_numeric = np.concatenate((column_header_numeric, np.array(['exchange_rate'])))\n",
    "column_header_numeric"
   ]
  },
  {
   "cell_type": "code",
   "execution_count": 123,
   "id": "930e7eaf",
   "metadata": {},
   "outputs": [],
   "source": [
    "np.savetxt(\"Customers_Loan_header_numeric_1.csv\",\n",
    "            column_header_numeric,\n",
    "            fmt = \"%s\",\n",
    "            delimiter = ',')"
   ]
  },
  {
   "cell_type": "markdown",
   "id": "cb605bb2",
   "metadata": {},
   "source": [
    "# Conversion USD to INR"
   ]
  },
  {
   "cell_type": "code",
   "execution_count": 124,
   "id": "6d9fcf1c",
   "metadata": {},
   "outputs": [
    {
     "data": {
      "text/plain": [
       "array(['id', 'loan_amnt', 'funded_amnt', 'int_rate', 'installment', 'total_pymnt', 'exchange_rate'],\n",
       "      dtype='<U19')"
      ]
     },
     "execution_count": 124,
     "metadata": {},
     "output_type": "execute_result"
    }
   ],
   "source": [
    "column_header_numeric"
   ]
  },
  {
   "cell_type": "code",
   "execution_count": 125,
   "id": "88f6feb6",
   "metadata": {},
   "outputs": [],
   "source": [
    "columns_dollar = np.array([1,2,4,5])"
   ]
  },
  {
   "cell_type": "code",
   "execution_count": 126,
   "id": "17c8ee2e",
   "metadata": {},
   "outputs": [
    {
     "data": {
      "text/plain": [
       "array([75.4 , 74.92, 75.12, ..., 74.87, 75.03, 74.87])"
      ]
     },
     "execution_count": 126,
     "metadata": {},
     "output_type": "execute_result"
    }
   ],
   "source": [
    "customers_data_numeric[:,6]"
   ]
  },
  {
   "cell_type": "code",
   "execution_count": 127,
   "id": "cd686cd1",
   "metadata": {},
   "outputs": [],
   "source": [
    "for i in columns_dollar:\n",
    "    customers_data_numeric = np.hstack((customers_data_numeric, np.reshape(customers_data_numeric[:,i] / customers_data_numeric[:,6], (10000,1))))"
   ]
  },
  {
   "cell_type": "code",
   "execution_count": 128,
   "id": "0d4e8085",
   "metadata": {},
   "outputs": [
    {
     "data": {
      "text/plain": [
       "(10000, 11)"
      ]
     },
     "execution_count": 128,
     "metadata": {},
     "output_type": "execute_result"
    }
   ],
   "source": [
    "customers_data_numeric.shape"
   ]
  },
  {
   "cell_type": "code",
   "execution_count": 129,
   "id": "79689772",
   "metadata": {},
   "outputs": [
    {
     "data": {
      "text/plain": [
       "array([[65676913.  ,    15000.  ,    15000.  , ...,      198.93,        6.07,        5.94],\n",
       "       [63177012.  ,    11250.  ,    11250.  , ...,      150.17,        5.04,        9.86],\n",
       "       [41021489.  ,    16400.  ,    16400.  , ...,      218.32,        5.08,       50.45],\n",
       "       ...,\n",
       "       [38507183.  ,    22500.  ,    22500.  , ...,      300.54,        9.63,      105.57],\n",
       "       [46644700.  ,    17325.  ,    17325.  , ...,      230.89,        6.64,       52.51],\n",
       "       [38171566.  ,     6250.  ,     6250.  , ...,       83.48,        2.71,      559.85]])"
      ]
     },
     "execution_count": 129,
     "metadata": {},
     "output_type": "execute_result"
    }
   ],
   "source": [
    "customers_data_numeric"
   ]
  },
  {
   "cell_type": "markdown",
   "id": "10d898e0",
   "metadata": {},
   "source": [
    "# Modifying Headers"
   ]
  },
  {
   "cell_type": "code",
   "execution_count": 131,
   "id": "168487b8",
   "metadata": {},
   "outputs": [
    {
     "data": {
      "text/plain": [
       "array(['loan_amnt_INR', 'funded_amnt_INR', 'installment_INR', 'total_pymnt_INR'], dtype='<U15')"
      ]
     },
     "execution_count": 131,
     "metadata": {},
     "output_type": "execute_result"
    }
   ],
   "source": [
    "cloumn_header_additional = np.array([column_name + '_INR' for column_name in column_header_numeric[columns_dollar]])\n",
    "cloumn_header_additional"
   ]
  },
  {
   "cell_type": "code",
   "execution_count": 132,
   "id": "c3bd7cf6",
   "metadata": {},
   "outputs": [
    {
     "data": {
      "text/plain": [
       "array(['id', 'loan_amnt', 'funded_amnt', 'int_rate', 'installment', 'total_pymnt', 'exchange_rate'],\n",
       "      dtype='<U19')"
      ]
     },
     "execution_count": 132,
     "metadata": {},
     "output_type": "execute_result"
    }
   ],
   "source": [
    "column_header_numeric"
   ]
  },
  {
   "cell_type": "code",
   "execution_count": 133,
   "id": "3d95099e",
   "metadata": {},
   "outputs": [
    {
     "data": {
      "text/plain": [
       "array(['id', 'loan_amnt_USD', 'funded_amnt_USD', 'int_rate', 'installment_USD', 'total_pymnt_USD',\n",
       "       'exchange_rate'], dtype='<U19')"
      ]
     },
     "execution_count": 133,
     "metadata": {},
     "output_type": "execute_result"
    }
   ],
   "source": [
    "column_header_numeric[columns_dollar]=np.array([column_name + '_USD' for column_name in column_header_numeric[columns_dollar]])\n",
    "column_header_numeric"
   ]
  },
  {
   "cell_type": "code",
   "execution_count": 134,
   "id": "6c531a70",
   "metadata": {},
   "outputs": [
    {
     "data": {
      "text/plain": [
       "array(['id', 'loan_amnt_USD', 'funded_amnt_USD', 'int_rate', 'installment_USD', 'total_pymnt_USD',\n",
       "       'exchange_rate', 'loan_amnt_INR', 'funded_amnt_INR', 'installment_INR', 'total_pymnt_INR'],\n",
       "      dtype='<U19')"
      ]
     },
     "execution_count": 134,
     "metadata": {},
     "output_type": "execute_result"
    }
   ],
   "source": [
    "column_header_numeric = np.concatenate((column_header_numeric, cloumn_header_additional))\n",
    "column_header_numeric"
   ]
  },
  {
   "cell_type": "code",
   "execution_count": 135,
   "id": "c9d47fff",
   "metadata": {},
   "outputs": [],
   "source": [
    "columns_index_order = [0,1,7,2,8,3,4,9,5,10,6]"
   ]
  },
  {
   "cell_type": "code",
   "execution_count": 136,
   "id": "63b6ea09",
   "metadata": {},
   "outputs": [
    {
     "data": {
      "text/plain": [
       "array(['id', 'loan_amnt_USD', 'loan_amnt_INR', 'funded_amnt_USD', 'funded_amnt_INR', 'int_rate',\n",
       "       'installment_USD', 'installment_INR', 'total_pymnt_USD', 'total_pymnt_INR', 'exchange_rate'],\n",
       "      dtype='<U19')"
      ]
     },
     "execution_count": 136,
     "metadata": {},
     "output_type": "execute_result"
    }
   ],
   "source": [
    "column_header_numeric = column_header_numeric[columns_index_order]\n",
    "column_header_numeric"
   ]
  },
  {
   "cell_type": "code",
   "execution_count": 137,
   "id": "9d624959",
   "metadata": {},
   "outputs": [],
   "source": [
    "customers_data_numeric = customers_data_numeric[:,columns_index_order]"
   ]
  },
  {
   "cell_type": "markdown",
   "id": "6aeb3e6d",
   "metadata": {},
   "source": [
    "# Interest Rate"
   ]
  },
  {
   "cell_type": "code",
   "execution_count": 139,
   "id": "6eccb59b",
   "metadata": {},
   "outputs": [
    {
     "data": {
      "text/plain": [
       "array([28.99, 28.99, 28.99, ..., 28.99, 23.99, 28.99])"
      ]
     },
     "execution_count": 139,
     "metadata": {},
     "output_type": "execute_result"
    }
   ],
   "source": [
    "customers_data_numeric[:,5]"
   ]
  },
  {
   "cell_type": "code",
   "execution_count": 140,
   "id": "eee516ee",
   "metadata": {},
   "outputs": [
    {
     "data": {
      "text/plain": [
       "array([0.29, 0.29, 0.29, ..., 0.29, 0.24, 0.29])"
      ]
     },
     "execution_count": 140,
     "metadata": {},
     "output_type": "execute_result"
    }
   ],
   "source": [
    "customers_data_numeric[:,5] = customers_data_numeric[:,5]/100\n",
    "customers_data_numeric[:,5]"
   ]
  },
  {
   "cell_type": "code",
   "execution_count": 141,
   "id": "d530faaf",
   "metadata": {},
   "outputs": [],
   "source": [
    "customers_data_numeric_interest_rate = customers_data_numeric[:,5]"
   ]
  },
  {
   "cell_type": "markdown",
   "id": "1ef90e65",
   "metadata": {},
   "source": [
    "# Numeric Checkpoint"
   ]
  },
  {
   "cell_type": "code",
   "execution_count": 142,
   "id": "f12245ef",
   "metadata": {},
   "outputs": [],
   "source": [
    "checkpoint_numeric = checkpoint(\"Checkpoint-Numeric\", column_header_numeric, customers_data_numeric)"
   ]
  },
  {
   "cell_type": "code",
   "execution_count": 143,
   "id": "782ec32f",
   "metadata": {},
   "outputs": [
    {
     "data": {
      "text/plain": [
       "(array(['id', 'loan_amnt_USD', 'loan_amnt_INR', 'funded_amnt_USD', 'funded_amnt_INR', 'int_rate',\n",
       "        'installment_USD', 'installment_INR', 'total_pymnt_USD', 'total_pymnt_INR', 'exchange_rate'],\n",
       "       dtype='<U19'),\n",
       " array([[65676913.  ,    15000.  ,      198.93, ...,      447.57,        5.94,       75.4 ],\n",
       "        [63177012.  ,    11250.  ,      150.17, ...,      738.9 ,        9.86,       74.92],\n",
       "        [41021489.  ,    16400.  ,      218.32, ...,     3789.71,       50.45,       75.12],\n",
       "        ...,\n",
       "        [38507183.  ,    22500.  ,      300.54, ...,     7903.32,      105.57,       74.87],\n",
       "        [46644700.  ,    17325.  ,      230.89, ...,     3940.3 ,       52.51,       75.03],\n",
       "        [38171566.  ,     6250.  ,       83.48, ...,    41913.62,      559.85,       74.87]]))"
      ]
     },
     "execution_count": 143,
     "metadata": {},
     "output_type": "execute_result"
    }
   ],
   "source": [
    "checkpoint_numeric['header'], checkpoint_numeric['data']"
   ]
  },
  {
   "cell_type": "markdown",
   "id": "5f9d1df4",
   "metadata": {},
   "source": [
    "# New Dataset"
   ]
  },
  {
   "cell_type": "code",
   "execution_count": 144,
   "id": "341dd216",
   "metadata": {},
   "outputs": [
    {
     "data": {
      "text/plain": [
       "(10000, 6)"
      ]
     },
     "execution_count": 144,
     "metadata": {},
     "output_type": "execute_result"
    }
   ],
   "source": [
    "checkpoint_strings['data'].shape"
   ]
  },
  {
   "cell_type": "code",
   "execution_count": 145,
   "id": "6e25ff65",
   "metadata": {},
   "outputs": [
    {
     "data": {
      "text/plain": [
       "(10000, 11)"
      ]
     },
     "execution_count": 145,
     "metadata": {},
     "output_type": "execute_result"
    }
   ],
   "source": [
    "checkpoint_numeric['data'].shape"
   ]
  },
  {
   "cell_type": "code",
   "execution_count": 146,
   "id": "a58c699e",
   "metadata": {},
   "outputs": [
    {
     "data": {
      "text/plain": [
       "array([[65676913.  ,    15000.  ,      198.93, ...,        2.  ,        0.  ,        4.  ],\n",
       "       [63177012.  ,    11250.  ,      150.17, ...,       12.  ,        1.  ,        2.  ],\n",
       "       [41021489.  ,    16400.  ,      218.32, ...,       14.  ,        1.  ,        1.  ],\n",
       "       ...,\n",
       "       [38507183.  ,    22500.  ,      300.54, ...,        7.  ,        1.  ,        1.  ],\n",
       "       [46644700.  ,    17325.  ,      230.89, ...,       27.  ,        1.  ,        2.  ],\n",
       "       [38171566.  ,     6250.  ,       83.48, ...,        8.  ,        0.  ,        1.  ]])"
      ]
     },
     "execution_count": 146,
     "metadata": {},
     "output_type": "execute_result"
    }
   ],
   "source": [
    "customer_new_dataset = np.hstack((checkpoint_numeric['data'], checkpoint_strings['data']))\n",
    "customer_new_dataset"
   ]
  },
  {
   "cell_type": "code",
   "execution_count": 148,
   "id": "f5758cac",
   "metadata": {},
   "outputs": [
    {
     "data": {
      "text/plain": [
       "0"
      ]
     },
     "execution_count": 148,
     "metadata": {},
     "output_type": "execute_result"
    }
   ],
   "source": [
    "np.isnan(customer_new_dataset).sum()"
   ]
  },
  {
   "cell_type": "code",
   "execution_count": 149,
   "id": "ebf93e09",
   "metadata": {},
   "outputs": [
    {
     "data": {
      "text/plain": [
       "array(['id', 'loan_amnt_USD', 'loan_amnt_INR', 'funded_amnt_USD', 'funded_amnt_INR', 'int_rate',\n",
       "       'installment_USD', 'installment_INR', 'total_pymnt_USD', 'total_pymnt_INR', 'exchange_rate',\n",
       "       'issue_date', 'loan_status', 'term_months', 'sub_grade', 'verification_status',\n",
       "       'state_address'], dtype='<U19')"
      ]
     },
     "execution_count": 149,
     "metadata": {},
     "output_type": "execute_result"
    }
   ],
   "source": [
    "column_header = np.concatenate((checkpoint_numeric['header'], checkpoint_strings['header']))\n",
    "column_header"
   ]
  },
  {
   "cell_type": "markdown",
   "id": "6d74ffc6",
   "metadata": {},
   "source": [
    "# Sorting New Dataset"
   ]
  },
  {
   "cell_type": "code",
   "execution_count": 151,
   "id": "4ba86343",
   "metadata": {},
   "outputs": [
    {
     "data": {
      "text/plain": [
       "array([[  373332.  ,     9950.  ,      131.82, ...,       21.  ,        0.  ,        1.  ],\n",
       "       [  575239.  ,    12000.  ,      158.97, ...,       25.  ,        1.  ,        2.  ],\n",
       "       [  707689.  ,    10000.  ,      133.67, ...,       13.  ,        1.  ,        0.  ],\n",
       "       ...,\n",
       "       [68614880.  ,     5600.  ,       74.36, ...,        8.  ,        1.  ,        1.  ],\n",
       "       [68615915.  ,     4000.  ,       53.12, ...,       10.  ,        1.  ,        2.  ],\n",
       "       [68616519.  ,    21600.  ,      286.83, ...,        3.  ,        0.  ,        2.  ]])"
      ]
     },
     "execution_count": 151,
     "metadata": {},
     "output_type": "execute_result"
    }
   ],
   "source": [
    "customer_new_dataset = customer_new_dataset[np.argsort(customer_new_dataset[:,0])]\n",
    "customer_new_dataset"
   ]
  },
  {
   "cell_type": "code",
   "execution_count": 152,
   "id": "91b421a5",
   "metadata": {},
   "outputs": [
    {
     "data": {
      "text/plain": [
       "array([   0,    1,    2, ..., 9997, 9998, 9999], dtype=int64)"
      ]
     },
     "execution_count": 152,
     "metadata": {},
     "output_type": "execute_result"
    }
   ],
   "source": [
    "np.argsort(customer_new_dataset[:,0])"
   ]
  },
  {
   "cell_type": "markdown",
   "id": "fe7c9f49",
   "metadata": {},
   "source": [
    "# Storing the New Dataset"
   ]
  },
  {
   "cell_type": "code",
   "execution_count": 154,
   "id": "959aad67",
   "metadata": {},
   "outputs": [
    {
     "data": {
      "text/plain": [
       "array([['id', 'loan_amnt_USD', 'loan_amnt_INR', ..., 'sub_grade', 'verification_status',\n",
       "        'state_address'],\n",
       "       ['373332.0', '9950.0', '131.81575204860889', ..., '21.0', '0.0', '1.0'],\n",
       "       ['575239.0', '12000.0', '158.97377131490518', ..., '25.0', '1.0', '2.0'],\n",
       "       ...,\n",
       "       ['68614880.0', '5600.0', '74.3632151732829', ..., '8.0', '1.0', '1.0'],\n",
       "       ['68615915.0', '4000.0', '53.11658226663064', ..., '10.0', '1.0', '2.0'],\n",
       "       ['68616519.0', '21600.0', '286.82954423980544', ..., '3.0', '0.0', '2.0']], dtype='<U32')"
      ]
     },
     "execution_count": 154,
     "metadata": {},
     "output_type": "execute_result"
    }
   ],
   "source": [
    "#\n",
    "customer_new_dataset = np.vstack((column_header,customer_new_dataset))\n",
    "customer_new_dataset"
   ]
  },
  {
   "cell_type": "code",
   "execution_count": 156,
   "id": "31c0e20c",
   "metadata": {},
   "outputs": [
    {
     "data": {
      "text/plain": [
       "array(['id', 'loan_amnt_USD', 'loan_amnt_INR', 'funded_amnt_USD', 'funded_amnt_INR', 'int_rate',\n",
       "       'installment_USD', 'installment_INR', 'total_pymnt_USD', 'total_pymnt_INR', 'exchange_rate',\n",
       "       'issue_date', 'loan_status', 'term_months', 'sub_grade', 'verification_status',\n",
       "       'state_address'], dtype='<U19')"
      ]
     },
     "execution_count": 156,
     "metadata": {},
     "output_type": "execute_result"
    }
   ],
   "source": [
    "column_header"
   ]
  },
  {
   "cell_type": "code",
   "execution_count": null,
   "id": "bd73adcd",
   "metadata": {},
   "outputs": [],
   "source": []
  }
 ],
 "metadata": {
  "kernelspec": {
   "display_name": "Python 3",
   "language": "python",
   "name": "python3"
  },
  "language_info": {
   "codemirror_mode": {
    "name": "ipython",
    "version": 3
   },
   "file_extension": ".py",
   "mimetype": "text/x-python",
   "name": "python",
   "nbconvert_exporter": "python",
   "pygments_lexer": "ipython3",
   "version": "3.8.8"
  }
 },
 "nbformat": 4,
 "nbformat_minor": 5
}
