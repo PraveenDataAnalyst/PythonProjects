{
 "cells": [
  {
   "cell_type": "code",
   "execution_count": null,
   "id": "09758c5f",
   "metadata": {},
   "outputs": [],
   "source": [
    "import pyodbc\n",
    "import pandas as pd\n",
    "import os"
   ]
  },
  {
   "cell_type": "code",
   "execution_count": null,
   "id": "470b1ff9",
   "metadata": {},
   "outputs": [],
   "source": [
    "df = pd.read_excel(\"C:\\\\Users\\\\prave\\\\Documents\\\\Python Automation Reports\\\\BI Python Excel Automation Reports\\\\AdWorksData2022.xlsx\")\n",
    "df.head()"
   ]
  },
  {
   "cell_type": "code",
   "execution_count": null,
   "id": "59f83b67",
   "metadata": {},
   "outputs": [],
   "source": [
    "df['OrderDate'] = df['OrderDate'].dt.date\n",
    "df.head()"
   ]
  },
  {
   "cell_type": "code",
   "execution_count": null,
   "id": "326561f2",
   "metadata": {},
   "outputs": [],
   "source": [
    "ls = df['saleterritory'].unique()\n",
    "ls"
   ]
  },
  {
   "cell_type": "code",
   "execution_count": null,
   "id": "aa7582c3",
   "metadata": {},
   "outputs": [],
   "source": [
    "base_dir = r\"C:\\\\Users\\\\prave\\\\Documents\\\\Python Automation Reports\\\\BI Python Excel Automation Reports\"\n",
    "for x in ls:\n",
    "    print(base_dir + \"\\\\\" + x)\n",
    "    folders = base_dir + \"\\\\\" + x\n",
    "    if not os.path.exists(folders):\n",
    "        os.makedirs(folders)\n",
    "    df[df['saleterritory'] == x].to_excel(\"{}\\{}.xlsx\".format(folders, x), sheet_name=x, index=False)\n",
    "    print(\"{} file saved\", x)"
   ]
  },
  {
   "cell_type": "code",
   "execution_count": null,
   "id": "81695c7b",
   "metadata": {},
   "outputs": [],
   "source": [
    " dict = {\n",
    "'Canada': 'youremail@domain.com',\n",
    "'Central': 'youremail@domain.com',\n",
    "'Southwest' : 'youremail@domain.com' , \n",
    "'United Kingdom': 'youremail@domain.com' \n",
    "}"
   ]
  },
  {
   "cell_type": "code",
   "execution_count": null,
   "id": "2ca21c3d",
   "metadata": {},
   "outputs": [],
   "source": [
    "ls"
   ]
  },
  {
   "cell_type": "code",
   "execution_count": null,
   "id": "8dea4103",
   "metadata": {},
   "outputs": [],
   "source": [
    "sender_address = 'admin@domain.com'\n",
    "email_df = pd.DataFrame()\n",
    "for key, value in dict.items():\n",
    "    if key in ls:\n",
    "        print(\"Email \" + value + \" territory \" + key)\n",
    "        email_df = email_df.append(df[df['saleterritory'] == key])\n",
    "    send_dataframe(value,sender_address ,\"Weekly Product Report\", email_df)\n",
    "    email_df = pd.DataFrame()"
   ]
  },
  {
   "cell_type": "code",
   "execution_count": null,
   "id": "89d82ac2",
   "metadata": {},
   "outputs": [],
   "source": [
    "email_df['saleterritory'].unique()"
   ]
  },
  {
   "cell_type": "code",
   "execution_count": null,
   "id": "28216a2c",
   "metadata": {},
   "outputs": [],
   "source": [
    "from email.mime.text import MIMEText\n",
    "from email.mime.application import MIMEApplication\n",
    "from email.mime.multipart import MIMEMultipart\n",
    "from email.mime.base import MIMEBase\n",
    "from email import encoders\n",
    "from smtplib import SMTP\n",
    "import smtplib\n",
    "import io\n",
    "import json"
   ]
  },
  {
   "cell_type": "code",
   "execution_count": null,
   "id": "bed217ad",
   "metadata": {},
   "outputs": [],
   "source": [
    "def export_csv(df):\n",
    "  with io.StringIO() as buffer:\n",
    "    df.to_csv(buffer)\n",
    "    return buffer.getvalue()\n",
    "#\n",
    "def export_excel(df):\n",
    "  with io.BytesIO() as buffer:\n",
    "    with pd.ExcelWriter(buffer) as writer:\n",
    "        #df.to_excel(writer, sheet_name=\"Weekly_Report\", index=False, na_rep='NaN')\n",
    "        df.style.format({\"Sales\": \"${:20,.0f}\", \n",
    "                  \"UnitPrice\": \"${:20,.0f}\", \n",
    "                  \"ListPrice\": \"${:20,.0f}\",\n",
    "                  \"NetSales\":\"${:20,.0f}\"})\\\n",
    "         .format({\"product\": lambda x:x.lower(),\n",
    "                  \"Customer\": lambda x:x.lower()})\\\n",
    "         .hide_index()\\\n",
    "         .background_gradient(cmap='Blues').to_excel(writer, sheet_name=\"Weekly_Report\", index=False, na_rep='NaN')\n",
    "        for column in df:\n",
    "            column_length = max(df[column].astype(str).map(len).max(), len(column))\n",
    "            col_idx = df.columns.get_loc(column)\n",
    "            writer.sheets['Weekly_Report'].set_column(col_idx, col_idx, column_length)\n",
    "    return buffer.getvalue()"
   ]
  },
  {
   "cell_type": "code",
   "execution_count": null,
   "id": "c8a85c19",
   "metadata": {},
   "outputs": [],
   "source": [
    "bodytemp = r'Path\\to\\your\\template\\email.html'\n",
    "with open(bodytemp, \"r\", encoding='utf-8') as f:\n",
    "    temp= f.read()\n",
    "\n",
    "#EXPORTERS = {'dataframe.csv': export_csv, 'dataframe.xlsx': export_excel}\n",
    "EXPORTERS = {'Weekly Product Report.xlsx': export_excel}\n",
    "def send_dataframe(send_to,from_add, subject, df):\n",
    "    multipart = MIMEMultipart()\n",
    "    #MIMEMultipart()\n",
    "    multipart['From'] = from_add\n",
    "    multipart['To'] = send_to\n",
    "    multipart['Subject'] = subject\n",
    "    for filename in EXPORTERS:    \n",
    "        attachment = MIMEApplication(EXPORTERS[filename](df))\n",
    "        attachment['Content-Disposition'] = 'attachment; filename=\"{}\"'.format(filename)\n",
    "        multipart.attach(attachment)\n",
    "    multipart.attach(MIMEText(temp, 'html'))\n",
    "    #Your smptp server name here. Gmail settings: smtp.gmail.com\n",
    "    s = smtplib.SMTP('localhost')\n",
    "    #put your email address credentials here\n",
    "    s.login(email, password)\n",
    "    s.sendmail(from_add, send_to, multipart.as_string())\n",
    "    s.quit()"
   ]
  },
  {
   "cell_type": "code",
   "execution_count": null,
   "id": "5ae511e3",
   "metadata": {},
   "outputs": [],
   "source": [
    "content = open('config/gmail.json')\n",
    "config = json.load(content)\n",
    "email = config['local']\n",
    "password = config['pass']"
   ]
  },
  {
   "cell_type": "code",
   "execution_count": null,
   "id": "d1c10bb6",
   "metadata": {},
   "outputs": [],
   "source": []
  }
 ],
 "metadata": {
  "kernelspec": {
   "display_name": "Python 3",
   "language": "python",
   "name": "python3"
  },
  "language_info": {
   "codemirror_mode": {
    "name": "ipython",
    "version": 3
   },
   "file_extension": ".py",
   "mimetype": "text/x-python",
   "name": "python",
   "nbconvert_exporter": "python",
   "pygments_lexer": "ipython3",
   "version": "3.8.8"
  }
 },
 "nbformat": 4,
 "nbformat_minor": 5
}
